{
  "cells": [
    {
      "cell_type": "markdown",
      "metadata": {
        "id": "view-in-github",
        "colab_type": "text"
      },
      "source": [
        "<a href=\"https://colab.research.google.com/github/alexontour/calendar_generator/blob/main/calendar_generator_jupyter.ipynb\" target=\"_parent\"><img src=\"https://colab.research.google.com/assets/colab-badge.svg\" alt=\"Open In Colab\"/></a>"
      ]
    },
    {
      "cell_type": "code",
      "execution_count": 1,
      "id": "1dd60225",
      "metadata": {
        "id": "1dd60225",
        "outputId": "ede3bb58-1f7c-4296-c9ca-048a1baf7dc7",
        "colab": {
          "base_uri": "https://localhost:8080/"
        }
      },
      "outputs": [
        {
          "output_type": "stream",
          "name": "stdout",
          "text": [
            "Requirement already satisfied: flask in /usr/local/lib/python3.10/dist-packages (2.2.5)\n",
            "Collecting icalendar\n",
            "  Downloading icalendar-5.0.11-py3-none-any.whl (112 kB)\n",
            "\u001b[2K     \u001b[90m━━━━━━━━━━━━━━━━━━━━━━━━━━━━━━━━━━━━━━━━\u001b[0m \u001b[32m112.1/112.1 kB\u001b[0m \u001b[31m4.4 MB/s\u001b[0m eta \u001b[36m0:00:00\u001b[0m\n",
            "\u001b[?25hCollecting ics\n",
            "  Downloading ics-0.7.2-py2.py3-none-any.whl (40 kB)\n",
            "\u001b[2K     \u001b[90m━━━━━━━━━━━━━━━━━━━━━━━━━━━━━━━━━━━━━━━━\u001b[0m \u001b[32m40.1/40.1 kB\u001b[0m \u001b[31m5.7 MB/s\u001b[0m eta \u001b[36m0:00:00\u001b[0m\n",
            "\u001b[?25hCollecting reportlab\n",
            "  Downloading reportlab-4.1.0-py3-none-any.whl (1.9 MB)\n",
            "\u001b[2K     \u001b[90m━━━━━━━━━━━━━━━━━━━━━━━━━━━━━━━━━━━━━━━━\u001b[0m \u001b[32m1.9/1.9 MB\u001b[0m \u001b[31m18.2 MB/s\u001b[0m eta \u001b[36m0:00:00\u001b[0m\n",
            "\u001b[?25hCollecting fpdf\n",
            "  Downloading fpdf-1.7.2.tar.gz (39 kB)\n",
            "  Preparing metadata (setup.py) ... \u001b[?25l\u001b[?25hdone\n",
            "Collecting pdfkit\n",
            "  Downloading pdfkit-1.0.0-py3-none-any.whl (12 kB)\n",
            "Requirement already satisfied: pandas in /usr/local/lib/python3.10/dist-packages (1.5.3)\n",
            "Requirement already satisfied: matplotlib in /usr/local/lib/python3.10/dist-packages (3.7.1)\n",
            "Collecting wkhtmltopdf\n",
            "  Downloading wkhtmltopdf-0.2.tar.gz (9.7 kB)\n",
            "  Preparing metadata (setup.py) ... \u001b[?25l\u001b[?25hdone\n",
            "Requirement already satisfied: Werkzeug>=2.2.2 in /usr/local/lib/python3.10/dist-packages (from flask) (3.0.1)\n",
            "Requirement already satisfied: Jinja2>=3.0 in /usr/local/lib/python3.10/dist-packages (from flask) (3.1.3)\n",
            "Requirement already satisfied: itsdangerous>=2.0 in /usr/local/lib/python3.10/dist-packages (from flask) (2.1.2)\n",
            "Requirement already satisfied: click>=8.0 in /usr/local/lib/python3.10/dist-packages (from flask) (8.1.7)\n",
            "Requirement already satisfied: python-dateutil in /usr/local/lib/python3.10/dist-packages (from icalendar) (2.8.2)\n",
            "Requirement already satisfied: pytz in /usr/local/lib/python3.10/dist-packages (from icalendar) (2023.4)\n",
            "Collecting arrow>=0.11 (from ics)\n",
            "  Downloading arrow-1.3.0-py3-none-any.whl (66 kB)\n",
            "\u001b[2K     \u001b[90m━━━━━━━━━━━━━━━━━━━━━━━━━━━━━━━━━━━━━━━━\u001b[0m \u001b[32m66.4/66.4 kB\u001b[0m \u001b[31m8.0 MB/s\u001b[0m eta \u001b[36m0:00:00\u001b[0m\n",
            "\u001b[?25hRequirement already satisfied: six>1.5 in /usr/local/lib/python3.10/dist-packages (from ics) (1.16.0)\n",
            "Collecting tatsu>4.2 (from ics)\n",
            "  Downloading TatSu-5.8.3-py2.py3-none-any.whl (101 kB)\n",
            "\u001b[2K     \u001b[90m━━━━━━━━━━━━━━━━━━━━━━━━━━━━━━━━━━━━━━━━\u001b[0m \u001b[32m101.5/101.5 kB\u001b[0m \u001b[31m14.7 MB/s\u001b[0m eta \u001b[36m0:00:00\u001b[0m\n",
            "\u001b[?25hRequirement already satisfied: attrs>=19.1.0 in /usr/local/lib/python3.10/dist-packages (from ics) (23.2.0)\n",
            "Requirement already satisfied: pillow>=9.0.0 in /usr/local/lib/python3.10/dist-packages (from reportlab) (9.4.0)\n",
            "Requirement already satisfied: chardet in /usr/local/lib/python3.10/dist-packages (from reportlab) (5.2.0)\n",
            "Requirement already satisfied: numpy>=1.21.0 in /usr/local/lib/python3.10/dist-packages (from pandas) (1.25.2)\n",
            "Requirement already satisfied: contourpy>=1.0.1 in /usr/local/lib/python3.10/dist-packages (from matplotlib) (1.2.0)\n",
            "Requirement already satisfied: cycler>=0.10 in /usr/local/lib/python3.10/dist-packages (from matplotlib) (0.12.1)\n",
            "Requirement already satisfied: fonttools>=4.22.0 in /usr/local/lib/python3.10/dist-packages (from matplotlib) (4.49.0)\n",
            "Requirement already satisfied: kiwisolver>=1.0.1 in /usr/local/lib/python3.10/dist-packages (from matplotlib) (1.4.5)\n",
            "Requirement already satisfied: packaging>=20.0 in /usr/local/lib/python3.10/dist-packages (from matplotlib) (23.2)\n",
            "Requirement already satisfied: pyparsing>=2.3.1 in /usr/local/lib/python3.10/dist-packages (from matplotlib) (3.1.1)\n",
            "Collecting types-python-dateutil>=2.8.10 (from arrow>=0.11->ics)\n",
            "  Downloading types_python_dateutil-2.8.19.20240106-py3-none-any.whl (9.7 kB)\n",
            "Requirement already satisfied: MarkupSafe>=2.0 in /usr/local/lib/python3.10/dist-packages (from Jinja2>=3.0->flask) (2.1.5)\n",
            "Building wheels for collected packages: fpdf, wkhtmltopdf\n",
            "  Building wheel for fpdf (setup.py) ... \u001b[?25l\u001b[?25hdone\n",
            "  Created wheel for fpdf: filename=fpdf-1.7.2-py2.py3-none-any.whl size=40703 sha256=d93409b256fe10bc71e98c15c50e155901383e0207ac49b1b541993b67a7720e\n",
            "  Stored in directory: /root/.cache/pip/wheels/f9/95/ba/f418094659025eb9611f17cbcaf2334236bf39a0c3453ea455\n",
            "  Building wheel for wkhtmltopdf (setup.py) ... \u001b[?25l\u001b[?25hdone\n",
            "  Created wheel for wkhtmltopdf: filename=wkhtmltopdf-0.2-py3-none-any.whl size=11134 sha256=5c543cb65c7921c4f67882b83f44a719416a901f0df42cf0c7843f515b83e079\n",
            "  Stored in directory: /root/.cache/pip/wheels/47/07/ce/f83cde6e9b0a616486c17e1e172965d90c6cdb85ae4c9f77fb\n",
            "Successfully built fpdf wkhtmltopdf\n",
            "Installing collected packages: wkhtmltopdf, pdfkit, fpdf, types-python-dateutil, tatsu, reportlab, icalendar, arrow, ics\n",
            "Successfully installed arrow-1.3.0 fpdf-1.7.2 icalendar-5.0.11 ics-0.7.2 pdfkit-1.0.0 reportlab-4.1.0 tatsu-5.8.3 types-python-dateutil-2.8.19.20240106 wkhtmltopdf-0.2\n"
          ]
        }
      ],
      "source": [
        "!pip install flask icalendar ics reportlab fpdf pdfkit pandas matplotlib wkhtmltopdf"
      ]
    },
    {
      "cell_type": "code",
      "execution_count": 3,
      "id": "39afe6c9",
      "metadata": {
        "id": "39afe6c9"
      },
      "outputs": [],
      "source": [
        "from datetime import datetime, timedelta\n",
        "import pandas as pd\n",
        "from fpdf import FPDF\n",
        "import uuid\n",
        "import csv\n",
        "import os\n",
        "from flask import Flask, render_template, request, send_file"
      ]
    },
    {
      "cell_type": "code",
      "execution_count": 4,
      "id": "9d68130f",
      "metadata": {
        "id": "9d68130f"
      },
      "outputs": [],
      "source": [
        "def kalenderwochen_start_end_datum(eingabedatum, wochen_zukunft):\n",
        "    # Konvertiere das Eingabedatum in ein datetime-Objekt\n",
        "    eingabedatum_obj = datetime.strptime(eingabedatum, \"%Y-%m-%d\")\n",
        "\n",
        "    # Berechne das Enddatum\n",
        "    enddatum = eingabedatum_obj + timedelta(weeks=wochen_zukunft)\n",
        "\n",
        "    # Finde den Montag der Kalenderwoche des Eingabedatums\n",
        "    montag_kw_start = eingabedatum_obj - timedelta(days=eingabedatum_obj.weekday())\n",
        "\n",
        "    # Berechne das Startdatum der Kalenderwoche\n",
        "    startdatum_kw = montag_kw_start + timedelta(weeks=wochen_zukunft)\n",
        "\n",
        "    # Finde den Sonntag der Kalenderwoche\n",
        "    sonntag_kw_end = montag_kw_start + timedelta(days=6) + timedelta(weeks=wochen_zukunft)\n",
        "\n",
        "    return startdatum_kw.strftime(\"%Y%m%d\"), sonntag_kw_end.strftime(\"%Y%m%d\")"
      ]
    },
    {
      "cell_type": "code",
      "execution_count": 5,
      "id": "40b23dd9",
      "metadata": {
        "id": "40b23dd9"
      },
      "outputs": [],
      "source": [
        "# ICS-File von einem Dataframe erzeugen\n",
        "# IN: Dataframe\n",
        "# Out: ics-file im Arbeitsverzeichnis\n",
        "def create_ics_from_dataframe(df, ics_filename):\n",
        "    with open(ics_filename, 'w') as f:\n",
        "        f.write(\"BEGIN:VCALENDAR\\n\")\n",
        "        f.write(\"VERSION:2.0\\n\")\n",
        "        f.write(\"PRODID:alexontour\\n\")\n",
        "\n",
        "        for index, row in df.iterrows():\n",
        "            f.write(\"BEGIN:VEVENT\\n\")\n",
        "            f.write(f\"UID:{uuid.uuid4()}\\n\")\n",
        "            f.write(f\"SUMMARY:{row['beschreibung']}\\n\")\n",
        "            f.write(f\"DTSTART;VALUE=DATE:{row['start'].split('.')[0]}\\n\")\n",
        "            f.write(f\"DTEND;VALUE=DATE:{row['end'].split('.')[0]}\\n\")\n",
        "            f.write(\"TRANSP:TRANSPARENT\\n\")  # Ganztagesereignis\n",
        "            f.write(f\"DESCRIPTION:{row['info']}\\n\")\n",
        "            f.write(\"BEGIN:VALARM\\n\")\n",
        "            f.write(\"ACTION:DISPLAY\\n\")\n",
        "            f.write(f\"DESCRIPTION:Reminder - {row['beschreibung']}\\n\")\n",
        "            f.write(f\"TRIGGER:{row['reminder']}\\n\")  # Erinnerung\n",
        "            f.write(\"END:VALARM\\n\")\n",
        "            f.write(\"END:VEVENT\\n\")\n",
        "\n",
        "        f.write(\"END:VCALENDAR\\n\")\n",
        "\n",
        "\n",
        "    print(f\"ICS wurde erfolgreich erstellt: {ics_filename}\")"
      ]
    },
    {
      "cell_type": "code",
      "execution_count": 6,
      "id": "be1d5346",
      "metadata": {
        "id": "be1d5346"
      },
      "outputs": [],
      "source": [
        "def create_pdf_from_dataframe(df, pdf_filename):\n",
        "    pdf = FPDF()\n",
        "    # Erstellen Sie ein PDF-Objekt mit Querformat\n",
        "    #pdf.orientation='L'\n",
        "    #pdf.set_auto_page_break(auto=True, margin=15)\n",
        "    pdf.add_page()\n",
        "    pdf.set_fill_color(200, 220, 255)\n",
        "    pdf.set_font(\"Arial\", size=10)\n",
        "\n",
        "    # Spaltenüberschriften hinzufügen\n",
        "    for col in df.columns:\n",
        "        pdf.cell(45, 8, col, 1)\n",
        "    pdf.ln()\n",
        "\n",
        "    # Daten hinzufügen\n",
        "    for index, row in df.iterrows():\n",
        "        for col in df.columns:\n",
        "            pdf.cell(45, 5, str(row[col]), 1)\n",
        "        pdf.ln()\n",
        "\n",
        "    pdf.output(pdf_filename)\n",
        "\n",
        "    print(f\"PDF wurde erfolgreich erstellt: {pdf_filename}\")"
      ]
    },
    {
      "cell_type": "code",
      "execution_count": 7,
      "id": "ede03bc6",
      "metadata": {
        "id": "ede03bc6"
      },
      "outputs": [],
      "source": [
        "def create_csv_from_dataframe(df, csv_filename):\n",
        "\n",
        "    df.to_csv(csv_filename, index=False)\n",
        "\n",
        "    print(f\"CSV wurde erfolgreich erstellt: {csv_filename}\")"
      ]
    },
    {
      "cell_type": "code",
      "execution_count": 8,
      "id": "fe6367a8",
      "metadata": {
        "id": "fe6367a8"
      },
      "outputs": [],
      "source": [
        "# Funktion zum Zusammenführen der Werte einer Zeile zu einem String\n",
        "def merge_values(row):\n",
        "    return row['termin'] + ' #' + str(row['teil'])"
      ]
    },
    {
      "cell_type": "code",
      "source": [
        "\n",
        "csv_dateipfad_in = input(\"CSV-Dateiname: \")\n",
        "# kinderimpfplan2023.csv\n",
        "\n",
        "postfix = input(\"Vorname: \")\n",
        "# Alex\n",
        "\n",
        "eingabedatum = input(\"Eingabedatum: \")\n",
        "# \"2023-12-31\"\n",
        "\n",
        "reminder = input(\"Reminder: \")\n",
        "# -PT7D\n",
        "# 1 Woche\n",
        "\n",
        "path = \"download/\"\n",
        "path_in = \"\"\n",
        "\n",
        "\n",
        "# Datum/ Schema-CSV-Datei in DataFrame lesen\n",
        "df = pd.read_csv(path_in + csv_dateipfad_in, encoding='latin1', sep=';')\n",
        "for index, row in df.iterrows():\n",
        "    # Ändere den Wert in der Spalte 'Alter'\n",
        "    wochen_zukunft = int(df.at[index, 'offset'])*4\n",
        "    #eingabedatum_temp_obj = datetime.strptime(eingabedatum, \"%d.%m.%Y\")\n",
        "    #eingabedatum = eingabedatum_temp_obj.strftime(\"%Y-%m-%d\")\n",
        "    startdatum, enddatum = kalenderwochen_start_end_datum(eingabedatum, wochen_zukunft)\n",
        "    #startdatum = str(startdatum)\n",
        "    #enddatum = str(enddatum)\n",
        "    df.at[index, 'start'] = startdatum\n",
        "    df.at[index, 'end'] = enddatum\n",
        "    # Neue Spalte hinzufügen, die die zusammengeführten Strings enthält\n",
        "    df['beschreibung'] = df.apply(merge_values, axis=1)\n",
        "    df['beschreibung'] = df['beschreibung'] + \" (\" + postfix + \")\"\n",
        "    df['reminder'] = reminder\n",
        "\n",
        "# DataFrame anzeigen\n",
        "print(df)\n",
        "df = df.fillna(\"\")\n",
        "df = df.astype(str)\n",
        "\n",
        "\n",
        "# Erzeuge ICS-Datei\n",
        "ics_filename = path + \"impfplan-\" + eingabedatum + \".ics\"\n",
        "create_ics_from_dataframe(df, ics_filename)\n",
        "\n",
        "# für den Druck optimieren: nicht relevante Spalten löschen, neu ordnen & Datum formatieren\n",
        "df = df.drop(['termin', 'teil', 'reminder'], axis=1)\n",
        "new_order = ['beschreibung', 'offset','info']\n",
        "df = df[new_order]\n",
        "#df['start'] = pd.to_datetime(df['start']).dt.strftime('%d.%m.%Y')\n",
        "#df['end'] = pd.to_datetime(df['end']).dt.strftime('%d.%m.%Y')\n",
        "df['erledigt'] = \" \"\n",
        "\n",
        "\n",
        "# Erzeuge CSV-Datei\n",
        "csv_filename = path + \"impfplan-\" + eingabedatum + \".csv\"\n",
        "create_csv_from_dataframe(df, csv_filename)\n",
        "\n",
        "# Erzeuge PDF-Datei\n",
        "pdf_filename = path + \"impfplan-\" + eingabedatum + \".pdf\"\n",
        "create_pdf_from_dataframe(df, pdf_filename)"
      ],
      "metadata": {
        "id": "x40TmdEDGQCH",
        "outputId": "e04af427-08bd-4bd8-8502-12409152dfb5",
        "colab": {
          "base_uri": "https://localhost:8080/",
          "height": 426
        }
      },
      "id": "x40TmdEDGQCH",
      "execution_count": 9,
      "outputs": [
        {
          "name": "stdout",
          "output_type": "stream",
          "text": [
            "CSV-Dateiname: kinderimpfplan2023.csv\n",
            "Vorname: Alex\n",
            "Eingabedatum: 2024-02-02\n",
            "Reminder: -PT7D\n"
          ]
        },
        {
          "output_type": "error",
          "ename": "FileNotFoundError",
          "evalue": "[Errno 2] No such file or directory: 'kinderimpfplan2023.csv'",
          "traceback": [
            "\u001b[0;31m---------------------------------------------------------------------------\u001b[0m",
            "\u001b[0;31mFileNotFoundError\u001b[0m                         Traceback (most recent call last)",
            "\u001b[0;32m<ipython-input-9-de549f939667>\u001b[0m in \u001b[0;36m<cell line: 19>\u001b[0;34m()\u001b[0m\n\u001b[1;32m     17\u001b[0m \u001b[0;34m\u001b[0m\u001b[0m\n\u001b[1;32m     18\u001b[0m \u001b[0;31m# Datum/ Schema-CSV-Datei in DataFrame lesen\u001b[0m\u001b[0;34m\u001b[0m\u001b[0;34m\u001b[0m\u001b[0m\n\u001b[0;32m---> 19\u001b[0;31m \u001b[0mdf\u001b[0m \u001b[0;34m=\u001b[0m \u001b[0mpd\u001b[0m\u001b[0;34m.\u001b[0m\u001b[0mread_csv\u001b[0m\u001b[0;34m(\u001b[0m\u001b[0mpath_in\u001b[0m \u001b[0;34m+\u001b[0m \u001b[0mcsv_dateipfad_in\u001b[0m\u001b[0;34m,\u001b[0m \u001b[0mencoding\u001b[0m\u001b[0;34m=\u001b[0m\u001b[0;34m'latin1'\u001b[0m\u001b[0;34m,\u001b[0m \u001b[0msep\u001b[0m\u001b[0;34m=\u001b[0m\u001b[0;34m';'\u001b[0m\u001b[0;34m)\u001b[0m\u001b[0;34m\u001b[0m\u001b[0;34m\u001b[0m\u001b[0m\n\u001b[0m\u001b[1;32m     20\u001b[0m \u001b[0;32mfor\u001b[0m \u001b[0mindex\u001b[0m\u001b[0;34m,\u001b[0m \u001b[0mrow\u001b[0m \u001b[0;32min\u001b[0m \u001b[0mdf\u001b[0m\u001b[0;34m.\u001b[0m\u001b[0miterrows\u001b[0m\u001b[0;34m(\u001b[0m\u001b[0;34m)\u001b[0m\u001b[0;34m:\u001b[0m\u001b[0;34m\u001b[0m\u001b[0;34m\u001b[0m\u001b[0m\n\u001b[1;32m     21\u001b[0m     \u001b[0;31m# Ändere den Wert in der Spalte 'Alter'\u001b[0m\u001b[0;34m\u001b[0m\u001b[0;34m\u001b[0m\u001b[0m\n",
            "\u001b[0;32m/usr/local/lib/python3.10/dist-packages/pandas/util/_decorators.py\u001b[0m in \u001b[0;36mwrapper\u001b[0;34m(*args, **kwargs)\u001b[0m\n\u001b[1;32m    209\u001b[0m                 \u001b[0;32melse\u001b[0m\u001b[0;34m:\u001b[0m\u001b[0;34m\u001b[0m\u001b[0;34m\u001b[0m\u001b[0m\n\u001b[1;32m    210\u001b[0m                     \u001b[0mkwargs\u001b[0m\u001b[0;34m[\u001b[0m\u001b[0mnew_arg_name\u001b[0m\u001b[0;34m]\u001b[0m \u001b[0;34m=\u001b[0m \u001b[0mnew_arg_value\u001b[0m\u001b[0;34m\u001b[0m\u001b[0;34m\u001b[0m\u001b[0m\n\u001b[0;32m--> 211\u001b[0;31m             \u001b[0;32mreturn\u001b[0m \u001b[0mfunc\u001b[0m\u001b[0;34m(\u001b[0m\u001b[0;34m*\u001b[0m\u001b[0margs\u001b[0m\u001b[0;34m,\u001b[0m \u001b[0;34m**\u001b[0m\u001b[0mkwargs\u001b[0m\u001b[0;34m)\u001b[0m\u001b[0;34m\u001b[0m\u001b[0;34m\u001b[0m\u001b[0m\n\u001b[0m\u001b[1;32m    212\u001b[0m \u001b[0;34m\u001b[0m\u001b[0m\n\u001b[1;32m    213\u001b[0m         \u001b[0;32mreturn\u001b[0m \u001b[0mcast\u001b[0m\u001b[0;34m(\u001b[0m\u001b[0mF\u001b[0m\u001b[0;34m,\u001b[0m \u001b[0mwrapper\u001b[0m\u001b[0;34m)\u001b[0m\u001b[0;34m\u001b[0m\u001b[0;34m\u001b[0m\u001b[0m\n",
            "\u001b[0;32m/usr/local/lib/python3.10/dist-packages/pandas/util/_decorators.py\u001b[0m in \u001b[0;36mwrapper\u001b[0;34m(*args, **kwargs)\u001b[0m\n\u001b[1;32m    329\u001b[0m                     \u001b[0mstacklevel\u001b[0m\u001b[0;34m=\u001b[0m\u001b[0mfind_stack_level\u001b[0m\u001b[0;34m(\u001b[0m\u001b[0;34m)\u001b[0m\u001b[0;34m,\u001b[0m\u001b[0;34m\u001b[0m\u001b[0;34m\u001b[0m\u001b[0m\n\u001b[1;32m    330\u001b[0m                 )\n\u001b[0;32m--> 331\u001b[0;31m             \u001b[0;32mreturn\u001b[0m \u001b[0mfunc\u001b[0m\u001b[0;34m(\u001b[0m\u001b[0;34m*\u001b[0m\u001b[0margs\u001b[0m\u001b[0;34m,\u001b[0m \u001b[0;34m**\u001b[0m\u001b[0mkwargs\u001b[0m\u001b[0;34m)\u001b[0m\u001b[0;34m\u001b[0m\u001b[0;34m\u001b[0m\u001b[0m\n\u001b[0m\u001b[1;32m    332\u001b[0m \u001b[0;34m\u001b[0m\u001b[0m\n\u001b[1;32m    333\u001b[0m         \u001b[0;31m# error: \"Callable[[VarArg(Any), KwArg(Any)], Any]\" has no\u001b[0m\u001b[0;34m\u001b[0m\u001b[0;34m\u001b[0m\u001b[0m\n",
            "\u001b[0;32m/usr/local/lib/python3.10/dist-packages/pandas/io/parsers/readers.py\u001b[0m in \u001b[0;36mread_csv\u001b[0;34m(filepath_or_buffer, sep, delimiter, header, names, index_col, usecols, squeeze, prefix, mangle_dupe_cols, dtype, engine, converters, true_values, false_values, skipinitialspace, skiprows, skipfooter, nrows, na_values, keep_default_na, na_filter, verbose, skip_blank_lines, parse_dates, infer_datetime_format, keep_date_col, date_parser, dayfirst, cache_dates, iterator, chunksize, compression, thousands, decimal, lineterminator, quotechar, quoting, doublequote, escapechar, comment, encoding, encoding_errors, dialect, error_bad_lines, warn_bad_lines, on_bad_lines, delim_whitespace, low_memory, memory_map, float_precision, storage_options)\u001b[0m\n\u001b[1;32m    948\u001b[0m     \u001b[0mkwds\u001b[0m\u001b[0;34m.\u001b[0m\u001b[0mupdate\u001b[0m\u001b[0;34m(\u001b[0m\u001b[0mkwds_defaults\u001b[0m\u001b[0;34m)\u001b[0m\u001b[0;34m\u001b[0m\u001b[0;34m\u001b[0m\u001b[0m\n\u001b[1;32m    949\u001b[0m \u001b[0;34m\u001b[0m\u001b[0m\n\u001b[0;32m--> 950\u001b[0;31m     \u001b[0;32mreturn\u001b[0m \u001b[0m_read\u001b[0m\u001b[0;34m(\u001b[0m\u001b[0mfilepath_or_buffer\u001b[0m\u001b[0;34m,\u001b[0m \u001b[0mkwds\u001b[0m\u001b[0;34m)\u001b[0m\u001b[0;34m\u001b[0m\u001b[0;34m\u001b[0m\u001b[0m\n\u001b[0m\u001b[1;32m    951\u001b[0m \u001b[0;34m\u001b[0m\u001b[0m\n\u001b[1;32m    952\u001b[0m \u001b[0;34m\u001b[0m\u001b[0m\n",
            "\u001b[0;32m/usr/local/lib/python3.10/dist-packages/pandas/io/parsers/readers.py\u001b[0m in \u001b[0;36m_read\u001b[0;34m(filepath_or_buffer, kwds)\u001b[0m\n\u001b[1;32m    603\u001b[0m \u001b[0;34m\u001b[0m\u001b[0m\n\u001b[1;32m    604\u001b[0m     \u001b[0;31m# Create the parser.\u001b[0m\u001b[0;34m\u001b[0m\u001b[0;34m\u001b[0m\u001b[0m\n\u001b[0;32m--> 605\u001b[0;31m     \u001b[0mparser\u001b[0m \u001b[0;34m=\u001b[0m \u001b[0mTextFileReader\u001b[0m\u001b[0;34m(\u001b[0m\u001b[0mfilepath_or_buffer\u001b[0m\u001b[0;34m,\u001b[0m \u001b[0;34m**\u001b[0m\u001b[0mkwds\u001b[0m\u001b[0;34m)\u001b[0m\u001b[0;34m\u001b[0m\u001b[0;34m\u001b[0m\u001b[0m\n\u001b[0m\u001b[1;32m    606\u001b[0m \u001b[0;34m\u001b[0m\u001b[0m\n\u001b[1;32m    607\u001b[0m     \u001b[0;32mif\u001b[0m \u001b[0mchunksize\u001b[0m \u001b[0;32mor\u001b[0m \u001b[0miterator\u001b[0m\u001b[0;34m:\u001b[0m\u001b[0;34m\u001b[0m\u001b[0;34m\u001b[0m\u001b[0m\n",
            "\u001b[0;32m/usr/local/lib/python3.10/dist-packages/pandas/io/parsers/readers.py\u001b[0m in \u001b[0;36m__init__\u001b[0;34m(self, f, engine, **kwds)\u001b[0m\n\u001b[1;32m   1440\u001b[0m \u001b[0;34m\u001b[0m\u001b[0m\n\u001b[1;32m   1441\u001b[0m         \u001b[0mself\u001b[0m\u001b[0;34m.\u001b[0m\u001b[0mhandles\u001b[0m\u001b[0;34m:\u001b[0m \u001b[0mIOHandles\u001b[0m \u001b[0;34m|\u001b[0m \u001b[0;32mNone\u001b[0m \u001b[0;34m=\u001b[0m \u001b[0;32mNone\u001b[0m\u001b[0;34m\u001b[0m\u001b[0;34m\u001b[0m\u001b[0m\n\u001b[0;32m-> 1442\u001b[0;31m         \u001b[0mself\u001b[0m\u001b[0;34m.\u001b[0m\u001b[0m_engine\u001b[0m \u001b[0;34m=\u001b[0m \u001b[0mself\u001b[0m\u001b[0;34m.\u001b[0m\u001b[0m_make_engine\u001b[0m\u001b[0;34m(\u001b[0m\u001b[0mf\u001b[0m\u001b[0;34m,\u001b[0m \u001b[0mself\u001b[0m\u001b[0;34m.\u001b[0m\u001b[0mengine\u001b[0m\u001b[0;34m)\u001b[0m\u001b[0;34m\u001b[0m\u001b[0;34m\u001b[0m\u001b[0m\n\u001b[0m\u001b[1;32m   1443\u001b[0m \u001b[0;34m\u001b[0m\u001b[0m\n\u001b[1;32m   1444\u001b[0m     \u001b[0;32mdef\u001b[0m \u001b[0mclose\u001b[0m\u001b[0;34m(\u001b[0m\u001b[0mself\u001b[0m\u001b[0;34m)\u001b[0m \u001b[0;34m->\u001b[0m \u001b[0;32mNone\u001b[0m\u001b[0;34m:\u001b[0m\u001b[0;34m\u001b[0m\u001b[0;34m\u001b[0m\u001b[0m\n",
            "\u001b[0;32m/usr/local/lib/python3.10/dist-packages/pandas/io/parsers/readers.py\u001b[0m in \u001b[0;36m_make_engine\u001b[0;34m(self, f, engine)\u001b[0m\n\u001b[1;32m   1733\u001b[0m                 \u001b[0;32mif\u001b[0m \u001b[0;34m\"b\"\u001b[0m \u001b[0;32mnot\u001b[0m \u001b[0;32min\u001b[0m \u001b[0mmode\u001b[0m\u001b[0;34m:\u001b[0m\u001b[0;34m\u001b[0m\u001b[0;34m\u001b[0m\u001b[0m\n\u001b[1;32m   1734\u001b[0m                     \u001b[0mmode\u001b[0m \u001b[0;34m+=\u001b[0m \u001b[0;34m\"b\"\u001b[0m\u001b[0;34m\u001b[0m\u001b[0;34m\u001b[0m\u001b[0m\n\u001b[0;32m-> 1735\u001b[0;31m             self.handles = get_handle(\n\u001b[0m\u001b[1;32m   1736\u001b[0m                 \u001b[0mf\u001b[0m\u001b[0;34m,\u001b[0m\u001b[0;34m\u001b[0m\u001b[0;34m\u001b[0m\u001b[0m\n\u001b[1;32m   1737\u001b[0m                 \u001b[0mmode\u001b[0m\u001b[0;34m,\u001b[0m\u001b[0;34m\u001b[0m\u001b[0;34m\u001b[0m\u001b[0m\n",
            "\u001b[0;32m/usr/local/lib/python3.10/dist-packages/pandas/io/common.py\u001b[0m in \u001b[0;36mget_handle\u001b[0;34m(path_or_buf, mode, encoding, compression, memory_map, is_text, errors, storage_options)\u001b[0m\n\u001b[1;32m    854\u001b[0m         \u001b[0;32mif\u001b[0m \u001b[0mioargs\u001b[0m\u001b[0;34m.\u001b[0m\u001b[0mencoding\u001b[0m \u001b[0;32mand\u001b[0m \u001b[0;34m\"b\"\u001b[0m \u001b[0;32mnot\u001b[0m \u001b[0;32min\u001b[0m \u001b[0mioargs\u001b[0m\u001b[0;34m.\u001b[0m\u001b[0mmode\u001b[0m\u001b[0;34m:\u001b[0m\u001b[0;34m\u001b[0m\u001b[0;34m\u001b[0m\u001b[0m\n\u001b[1;32m    855\u001b[0m             \u001b[0;31m# Encoding\u001b[0m\u001b[0;34m\u001b[0m\u001b[0;34m\u001b[0m\u001b[0m\n\u001b[0;32m--> 856\u001b[0;31m             handle = open(\n\u001b[0m\u001b[1;32m    857\u001b[0m                 \u001b[0mhandle\u001b[0m\u001b[0;34m,\u001b[0m\u001b[0;34m\u001b[0m\u001b[0;34m\u001b[0m\u001b[0m\n\u001b[1;32m    858\u001b[0m                 \u001b[0mioargs\u001b[0m\u001b[0;34m.\u001b[0m\u001b[0mmode\u001b[0m\u001b[0;34m,\u001b[0m\u001b[0;34m\u001b[0m\u001b[0;34m\u001b[0m\u001b[0m\n",
            "\u001b[0;31mFileNotFoundError\u001b[0m: [Errno 2] No such file or directory: 'kinderimpfplan2023.csv'"
          ]
        }
      ]
    },
    {
      "cell_type": "code",
      "execution_count": null,
      "id": "538edf53",
      "metadata": {
        "id": "538edf53",
        "outputId": "cc508346-cdf6-480a-fd78-c9325d3e8050",
        "colab": {
          "base_uri": "https://localhost:8080/"
        }
      },
      "outputs": [
        {
          "output_type": "stream",
          "name": "stdout",
          "text": [
            " * Serving Flask app '__main__'\n",
            " * Debug mode: off\n"
          ]
        },
        {
          "output_type": "stream",
          "name": "stderr",
          "text": [
            "INFO:werkzeug:\u001b[31m\u001b[1mWARNING: This is a development server. Do not use it in a production deployment. Use a production WSGI server instead.\u001b[0m\n",
            " * Running on http://127.0.0.1:5000\n",
            "INFO:werkzeug:\u001b[33mPress CTRL+C to quit\u001b[0m\n"
          ]
        }
      ],
      "source": [
        "# FLASK - App\n",
        "app = Flask(__name__)\n",
        "\n",
        "@app.route('/')\n",
        "def index():\n",
        "    return render_template('index.html')\n",
        "\n",
        "@app.route('/submit', methods=['POST'])\n",
        "def submit():\n",
        "    if request.method == 'POST':\n",
        "\n",
        "        # Eingabedaten aus Request einlesen\n",
        "        csv_dateipfad_in = request.form['csv_dateipfad_in']\n",
        "        postfix = request.form['postfix']\n",
        "        eingabedatum = request.form['eingabedatum']\n",
        "        reminder = request.form['reminder']\n",
        "        #eingabedatum = \"2023-12-31\"\n",
        "\n",
        "        print(eingabedatum)\n",
        "\n",
        "        #PROD auf pythonanywhere\n",
        "        #path = \"/home/alexontour/mysite/download/\"\n",
        "        #path_in = \"/home/alexontour/mysite/\"\n",
        "        # DEV - Local\n",
        "        path = \"download/\"\n",
        "        path_in = \"\"\n",
        "\n",
        "\n",
        "        # Datum/ Schema-CSV-Datei in DataFrame lesen\n",
        "        df = pd.read_csv(path_in + csv_dateipfad_in, encoding='latin1', sep=';')\n",
        "        for index, row in df.iterrows():\n",
        "            # Ändere den Wert in der Spalte 'Alter'\n",
        "            wochen_zukunft = int(df.at[index, 'offset'])*4\n",
        "            #eingabedatum_temp_obj = datetime.strptime(eingabedatum, \"%d.%m.%Y\")\n",
        "            #eingabedatum = eingabedatum_temp_obj.strftime(\"%Y-%m-%d\")\n",
        "            startdatum, enddatum = kalenderwochen_start_end_datum(eingabedatum, wochen_zukunft)\n",
        "            #startdatum = str(startdatum)\n",
        "            #enddatum = str(enddatum)\n",
        "            df.at[index, 'start'] = startdatum\n",
        "            df.at[index, 'end'] = enddatum\n",
        "            # Neue Spalte hinzufügen, die die zusammengeführten Strings enthält\n",
        "            df['beschreibung'] = df.apply(merge_values, axis=1)\n",
        "            df['beschreibung'] = df['beschreibung'] + \" (\" + postfix + \")\"\n",
        "            df['reminder'] = reminder\n",
        "\n",
        "        # DataFrame anzeigen\n",
        "        print(df)\n",
        "        df = df.fillna(\"\")\n",
        "        df = df.astype(str)\n",
        "\n",
        "\n",
        "        # Erzeuge ICS-Datei\n",
        "        ics_filename = path + \"impfplan-\" + eingabedatum + \".ics\"\n",
        "        create_ics_from_dataframe(df, ics_filename)\n",
        "\n",
        "        # für den Druck optimieren: nicht relevante Spalten löschen, neu ordnen & Datum formatieren\n",
        "        df = df.drop(['termin', 'teil', 'reminder'], axis=1)\n",
        "        new_order = ['beschreibung', 'offset','info']\n",
        "        df = df[new_order]\n",
        "        #df['start'] = pd.to_datetime(df['start']).dt.strftime('%d.%m.%Y')\n",
        "        #df['end'] = pd.to_datetime(df['end']).dt.strftime('%d.%m.%Y')\n",
        "        df['erledigt'] = \" \"\n",
        "\n",
        "\n",
        "        # Erzeuge CSV-Datei\n",
        "        csv_filename = path + \"impfplan-\" + eingabedatum + \".csv\"\n",
        "        create_csv_from_dataframe(df, csv_filename)\n",
        "\n",
        "        # Erzeuge PDF-Datei\n",
        "        pdf_filename = path + \"impfplan-\" + eingabedatum + \".pdf\"\n",
        "        create_pdf_from_dataframe(df, pdf_filename)\n",
        "\n",
        "        # Downlaod-Seite rendern\n",
        "        return render_template('download.html',\n",
        "                        pdf_filename=os.path.basename(pdf_filename),\n",
        "                        csv_filename=os.path.basename(csv_filename),\n",
        "                        ics_filename=os.path.basename(ics_filename))\n",
        "\n",
        "\n",
        "@app.route('/download/<filename>')\n",
        "def download(filename):\n",
        "    #PROD\n",
        "    #path = \"/home/alexontour/mysite/download/\"\n",
        "    #DEV\n",
        "    path = \"C:/Users/User/Documents/GitHub/calendar_generator/download/\"\n",
        "    return send_file(path + filename, as_attachment=True)\n",
        "\n",
        "if __name__ == '__main__':\n",
        "    app.run(port=5000)\n"
      ]
    },
    {
      "cell_type": "code",
      "execution_count": null,
      "id": "64978cc6",
      "metadata": {
        "id": "64978cc6"
      },
      "outputs": [],
      "source": []
    },
    {
      "cell_type": "code",
      "execution_count": null,
      "id": "8f2f8bed",
      "metadata": {
        "id": "8f2f8bed"
      },
      "outputs": [],
      "source": []
    },
    {
      "cell_type": "code",
      "execution_count": null,
      "id": "18587b6c",
      "metadata": {
        "id": "18587b6c"
      },
      "outputs": [],
      "source": []
    }
  ],
  "metadata": {
    "kernelspec": {
      "display_name": "Python 3 (ipykernel)",
      "language": "python",
      "name": "python3"
    },
    "language_info": {
      "codemirror_mode": {
        "name": "ipython",
        "version": 3
      },
      "file_extension": ".py",
      "mimetype": "text/x-python",
      "name": "python",
      "nbconvert_exporter": "python",
      "pygments_lexer": "ipython3",
      "version": "3.11.3"
    },
    "colab": {
      "provenance": [],
      "include_colab_link": true
    }
  },
  "nbformat": 4,
  "nbformat_minor": 5
}