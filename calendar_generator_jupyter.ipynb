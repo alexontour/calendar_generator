{
 "cells": [
  {
   "cell_type": "markdown",
   "id": "ee9453d4-57fc-42f7-88cc-8f858132715a",
   "metadata": {
    "colab_type": "text",
    "id": "view-in-github"
   },
   "source": [
    "<a href=\"https://colab.research.google.com/github/alexontour/calendar_generator/blob/main/calendar_generator_jupyter.ipynb\" target=\"_parent\"><img src=\"https://colab.research.google.com/assets/colab-badge.svg\" alt=\"Open In Colab\"/></a>\n",
    "\n",
    "Erzeuge ICS-Dateien aus einer CSV-Liste"
   ]
  },
  {
   "cell_type": "code",
   "execution_count": 8,
   "id": "1dd60225",
   "metadata": {
    "colab": {
     "base_uri": "https://localhost:8080/"
    },
    "id": "1dd60225",
    "outputId": "ede3bb58-1f7c-4296-c9ca-048a1baf7dc7"
   },
   "outputs": [
    {
     "name": "stdout",
     "output_type": "stream",
     "text": [
      "Requirement already satisfied: flask in c:\\users\\user\\anaconda3\\lib\\site-packages (2.2.2)\n",
      "Requirement already satisfied: icalendar in c:\\users\\user\\anaconda3\\lib\\site-packages (5.0.11)\n",
      "Requirement already satisfied: ics in c:\\users\\user\\anaconda3\\lib\\site-packages (0.7.2)\n",
      "Requirement already satisfied: reportlab in c:\\users\\user\\anaconda3\\lib\\site-packages (4.1.0)\n",
      "Requirement already satisfied: fpdf in c:\\users\\user\\anaconda3\\lib\\site-packages (1.7.2)\n",
      "Requirement already satisfied: pdfkit in c:\\users\\user\\anaconda3\\lib\\site-packages (1.0.0)\n",
      "Requirement already satisfied: pandas in c:\\users\\user\\anaconda3\\lib\\site-packages (1.5.3)\n",
      "Requirement already satisfied: matplotlib in c:\\users\\user\\anaconda3\\lib\\site-packages (3.7.1)\n",
      "Requirement already satisfied: wkhtmltopdf in c:\\users\\user\\anaconda3\\lib\\site-packages (0.2)\n",
      "Requirement already satisfied: Werkzeug>=2.2.2 in c:\\users\\user\\anaconda3\\lib\\site-packages (from flask) (2.2.3)\n",
      "Requirement already satisfied: Jinja2>=3.0 in c:\\users\\user\\anaconda3\\lib\\site-packages (from flask) (3.1.2)\n",
      "Requirement already satisfied: itsdangerous>=2.0 in c:\\users\\user\\anaconda3\\lib\\site-packages (from flask) (2.0.1)\n",
      "Requirement already satisfied: click>=8.0 in c:\\users\\user\\anaconda3\\lib\\site-packages (from flask) (8.0.4)\n",
      "Requirement already satisfied: python-dateutil in c:\\users\\user\\anaconda3\\lib\\site-packages (from icalendar) (2.8.2)\n",
      "Requirement already satisfied: pytz in c:\\users\\user\\anaconda3\\lib\\site-packages (from icalendar) (2022.7)\n",
      "Requirement already satisfied: arrow>=0.11 in c:\\users\\user\\anaconda3\\lib\\site-packages (from ics) (1.2.3)\n",
      "Requirement already satisfied: six>1.5 in c:\\users\\user\\anaconda3\\lib\\site-packages (from ics) (1.16.0)\n",
      "Requirement already satisfied: tatsu>4.2 in c:\\users\\user\\anaconda3\\lib\\site-packages (from ics) (5.11.3)\n",
      "Requirement already satisfied: attrs>=19.1.0 in c:\\users\\user\\anaconda3\\lib\\site-packages (from ics) (23.1.0)\n",
      "Requirement already satisfied: pillow>=9.0.0 in c:\\users\\user\\anaconda3\\lib\\site-packages (from reportlab) (10.2.0)\n",
      "Requirement already satisfied: chardet in c:\\users\\user\\anaconda3\\lib\\site-packages (from reportlab) (4.0.0)\n",
      "Requirement already satisfied: numpy>=1.21.0 in c:\\users\\user\\anaconda3\\lib\\site-packages (from pandas) (1.24.3)\n",
      "Requirement already satisfied: contourpy>=1.0.1 in c:\\users\\user\\anaconda3\\lib\\site-packages (from matplotlib) (1.0.5)\n",
      "Requirement already satisfied: cycler>=0.10 in c:\\users\\user\\anaconda3\\lib\\site-packages (from matplotlib) (0.11.0)\n",
      "Requirement already satisfied: fonttools>=4.22.0 in c:\\users\\user\\anaconda3\\lib\\site-packages (from matplotlib) (4.25.0)\n",
      "Requirement already satisfied: kiwisolver>=1.0.1 in c:\\users\\user\\anaconda3\\lib\\site-packages (from matplotlib) (1.4.4)\n",
      "Requirement already satisfied: packaging>=20.0 in c:\\users\\user\\anaconda3\\lib\\site-packages (from matplotlib) (23.0)\n",
      "Requirement already satisfied: pyparsing>=2.3.1 in c:\\users\\user\\anaconda3\\lib\\site-packages (from matplotlib) (3.0.9)\n",
      "Requirement already satisfied: colorama in c:\\users\\user\\anaconda3\\lib\\site-packages (from click>=8.0->flask) (0.4.6)\n",
      "Requirement already satisfied: MarkupSafe>=2.0 in c:\\users\\user\\anaconda3\\lib\\site-packages (from Jinja2>=3.0->flask) (2.1.1)\n"
     ]
    }
   ],
   "source": [
    "# Installation der Pakete\n",
    "\n",
    "!pip install flask fpdf pandas"
   ]
  },
  {
   "cell_type": "code",
   "execution_count": 9,
   "id": "39afe6c9",
   "metadata": {
    "id": "39afe6c9"
   },
   "outputs": [],
   "source": [
    "# Impoort der Bibliotheken\n",
    "\n",
    "from datetime import datetime, timedelta\n",
    "import pandas as pd\n",
    "from fpdf import FPDF\n",
    "import uuid\n",
    "import csv\n",
    "import os\n",
    "from flask import Flask, render_template, request, send_file"
   ]
  },
  {
   "cell_type": "code",
   "execution_count": 10,
   "id": "9d68130f",
   "metadata": {
    "id": "9d68130f"
   },
   "outputs": [],
   "source": [
    "# Berechne die Kalenderwoche (MO-SA) in der Zukunft ausgehend von einem Datum. \n",
    "# Der entsprechende Termin wird dann als Ganztagestermine in der Kalenderwoche eingetrgen\n",
    "\n",
    "def kalenderwochen_start_end_datum(eingabedatum, wochen_zukunft):\n",
    "    # Konvertiere das Eingabedatum in ein datetime-Objekt\n",
    "    eingabedatum_obj = datetime.strptime(eingabedatum, \"%Y-%m-%d\")\n",
    "\n",
    "    # Berechne das Enddatum\n",
    "    enddatum = eingabedatum_obj + timedelta(weeks=wochen_zukunft)\n",
    "\n",
    "    # Finde den Montag der Kalenderwoche des Eingabedatums\n",
    "    montag_kw_start = eingabedatum_obj - timedelta(days=eingabedatum_obj.weekday())\n",
    "\n",
    "    # Berechne das Startdatum der Kalenderwoche\n",
    "    startdatum_kw = montag_kw_start + timedelta(weeks=wochen_zukunft)\n",
    "\n",
    "    # Finde den Sonntag der Kalenderwoche\n",
    "    sonntag_kw_end = montag_kw_start + timedelta(days=6) + timedelta(weeks=wochen_zukunft)\n",
    "\n",
    "    return startdatum_kw.strftime(\"%Y%m%d\"), sonntag_kw_end.strftime(\"%Y%m%d\")"
   ]
  },
  {
   "cell_type": "code",
   "execution_count": 11,
   "id": "40b23dd9",
   "metadata": {
    "id": "40b23dd9"
   },
   "outputs": [],
   "source": [
    "# ICS-File von einem Dataframe erzeugen\n",
    "\n",
    "def create_ics_from_dataframe(df, ics_filename):\n",
    "    with open(ics_filename, 'w') as f:\n",
    "        f.write(\"BEGIN:VCALENDAR\\n\")\n",
    "        f.write(\"VERSION:2.0\\n\")\n",
    "        f.write(\"PRODID:alexontour\\n\")\n",
    "\n",
    "        for index, row in df.iterrows():\n",
    "            f.write(\"BEGIN:VEVENT\\n\")\n",
    "            f.write(f\"UID:{uuid.uuid4()}\\n\")\n",
    "            f.write(f\"SUMMARY:{row['beschreibung']}\\n\")\n",
    "            f.write(f\"DTSTART;VALUE=DATE:{row['start'].split('.')[0]}\\n\")\n",
    "            f.write(f\"DTEND;VALUE=DATE:{row['end'].split('.')[0]}\\n\")\n",
    "            f.write(\"TRANSP:TRANSPARENT\\n\")  # Ganztagesereignis\n",
    "            f.write(f\"DESCRIPTION:{row['info']}\\n\")\n",
    "            f.write(\"BEGIN:VALARM\\n\")\n",
    "            f.write(\"ACTION:DISPLAY\\n\")\n",
    "            f.write(f\"DESCRIPTION:Reminder - {row['beschreibung']}\\n\")\n",
    "            f.write(f\"TRIGGER:{row['reminder']}\\n\")  # Erinnerung\n",
    "            f.write(\"END:VALARM\\n\")\n",
    "            f.write(\"END:VEVENT\\n\")\n",
    "\n",
    "        f.write(\"END:VCALENDAR\\n\")\n",
    "\n",
    "\n",
    "    print(f\"ICS wurde erfolgreich erstellt: {ics_filename}\")"
   ]
  },
  {
   "cell_type": "code",
   "execution_count": 12,
   "id": "be1d5346",
   "metadata": {
    "id": "be1d5346"
   },
   "outputs": [],
   "source": [
    "# PDF von einem Dataframe erzeugen\n",
    "\n",
    "def create_pdf_from_dataframe(df, pdf_filename):\n",
    "    pdf = FPDF()\n",
    "    # Erstellen Sie ein PDF-Objekt mit Querformat\n",
    "    #pdf.orientation='L'\n",
    "    #pdf.set_auto_page_break(auto=True, margin=15)\n",
    "    pdf.add_page()\n",
    "    pdf.set_fill_color(200, 220, 255)\n",
    "    pdf.set_font(\"Arial\", size=10)\n",
    "\n",
    "    # Spaltenüberschriften hinzufügen\n",
    "    for col in df.columns:\n",
    "        pdf.cell(45, 8, col, 1)\n",
    "    pdf.ln()\n",
    "\n",
    "    # Daten hinzufügen\n",
    "    for index, row in df.iterrows():\n",
    "        for col in df.columns:\n",
    "            pdf.cell(45, 5, str(row[col]), 1)\n",
    "        pdf.ln()\n",
    "\n",
    "    pdf.output(pdf_filename)\n",
    "\n",
    "    print(f\"PDF wurde erfolgreich erstellt: {pdf_filename}\")"
   ]
  },
  {
   "cell_type": "code",
   "execution_count": 13,
   "id": "ede03bc6",
   "metadata": {
    "id": "ede03bc6"
   },
   "outputs": [],
   "source": [
    "# CSV-File von einem Dataframe erzeugen\n",
    "\n",
    "def create_csv_from_dataframe(df, csv_filename):\n",
    "\n",
    "    df.to_csv(csv_filename, index=False)\n",
    "\n",
    "    print(f\"CSV wurde erfolgreich erstellt: {csv_filename}\")"
   ]
  },
  {
   "cell_type": "code",
   "execution_count": 14,
   "id": "fe6367a8",
   "metadata": {
    "id": "fe6367a8"
   },
   "outputs": [],
   "source": [
    "# Funktion zum Zusammenführen der Werte einer Zeile zu einem String\n",
    "\n",
    "def merge_values(row):\n",
    "    return row['termin'] + ' #' + str(row['teil'])"
   ]
  },
  {
   "cell_type": "code",
   "execution_count": 15,
   "id": "x40TmdEDGQCH",
   "metadata": {
    "colab": {
     "base_uri": "https://localhost:8080/",
     "height": 426
    },
    "id": "x40TmdEDGQCH",
    "outputId": "e04af427-08bd-4bd8-8502-12409152dfb5"
   },
   "outputs": [
    {
     "name": "stdin",
     "output_type": "stream",
     "text": [
      "CSV-Dateiname:  kinderimpfplan2023.csv\n",
      "Vorname:  Alex\n",
      "Eingabedatum:  2024-02-02\n",
      "Reminder:  -PT7D\n"
     ]
    },
    {
     "name": "stdout",
     "output_type": "stream",
     "text": [
      "                termin  teil  offset     start       end reminder  \\\n",
      "0       Rotavirus (RV)     1       2  20240325  20240331    -PT7D   \n",
      "1       Rotavirus (RV)     2       3  20240422  20240428    -PT7D   \n",
      "2       Rotavirus (RV)     3       4  20240520  20240526    -PT7D   \n",
      "3               6-fach     1       3  20240422  20240428    -PT7D   \n",
      "4               6-fach     2       5  20240617  20240623    -PT7D   \n",
      "5               6-fach     3      12  20241230  20250105    -PT7D   \n",
      "6   Pneumokokken (PNC)     1       3  20240422  20240428    -PT7D   \n",
      "7   Pneumokokken (PNC)     2       5  20240617  20240623    -PT7D   \n",
      "8   Pneumokokken (PNC)     3      13  20250127  20250202    -PT7D   \n",
      "9                  MMR     1      11  20241202  20241208    -PT7D   \n",
      "10                 MMR     2      14  20250224  20250302    -PT7D   \n",
      "11     Meningokokken B     1       3  20240422  20240428    -PT7D   \n",
      "12     Meningokokken B     2       4  20240520  20240526    -PT7D   \n",
      "13     Meningokokken B     3       5  20240617  20240623    -PT7D   \n",
      "14     Meningokokken B     4      13  20250127  20250202    -PT7D   \n",
      "15     Meningokokken C     1      13  20250127  20250202    -PT7D   \n",
      "16                FSME     1      13  20250127  20250202    -PT7D   \n",
      "17                FSME     2      14  20250224  20250302    -PT7D   \n",
      "18                FSME     3      20  20250811  20250817    -PT7D   \n",
      "19                FSME     5      60  20280904  20280910    -PT7D   \n",
      "20    Varizellen (VZV)     1      30  20260518  20260524    -PT7D   \n",
      "21    Varizellen (VZV)     2      32  20260713  20260719    -PT7D   \n",
      "22   Hepatitis A (HAV)     1      30  20260518  20260524    -PT7D   \n",
      "23   Hepatitis A (HAV)     2      31  20260615  20260621    -PT7D   \n",
      "\n",
      "                                                 info  \\\n",
      "0                    1. Impfung in der 7. Lebenswoche   \n",
      "1            fruehestens 4 Wochen nach der 1. Impfung   \n",
      "2   abhaengig vom verwendeten Impfstoff fruehesten...   \n",
      "3   6-fach (Diphterie (DIP), Tetanus (TET), Pertus...   \n",
      "4                        2 Monate nach der 1. Impfung   \n",
      "5            fruehestens 6 Monate nach der 2. Impfung   \n",
      "6                                                 NaN   \n",
      "7                        2 Monate nach der 1. Impfung   \n",
      "8            fruehestens 6 Monate nach der 2. Impfung   \n",
      "9   Bei 1. Impfung im 10. bis 12. Monat: 2. Impfun...   \n",
      "10                          2. Impfung nach 3 Monaten   \n",
      "11                                                NaN   \n",
      "12                                                NaN   \n",
      "13                                                NaN   \n",
      "14     Auffrischungs- beziehungsweise Nachhol-Impfung   \n",
      "15                         1 Impfung ab dem 13. Monat   \n",
      "16                                                NaN   \n",
      "17                                                NaN   \n",
      "18                                                NaN   \n",
      "19                              Auffrischungs-Impfung   \n",
      "20  Vor Eintritt in Gemeinschaftseinrichtungen, 2 ...   \n",
      "21  Vor Eintritt in Gemeinschaftseinrichtungen, 2 ...   \n",
      "22  Vor Eintritt in Gemeinschaftseinrichtungen, 2 ...   \n",
      "23  Vor Eintritt in Gemeinschaftseinrichtungen, 2 ...   \n",
      "\n",
      "                    beschreibung  \n",
      "0       Rotavirus (RV) #1 (Alex)  \n",
      "1       Rotavirus (RV) #2 (Alex)  \n",
      "2       Rotavirus (RV) #3 (Alex)  \n",
      "3               6-fach #1 (Alex)  \n",
      "4               6-fach #2 (Alex)  \n",
      "5               6-fach #3 (Alex)  \n",
      "6   Pneumokokken (PNC) #1 (Alex)  \n",
      "7   Pneumokokken (PNC) #2 (Alex)  \n",
      "8   Pneumokokken (PNC) #3 (Alex)  \n",
      "9                  MMR #1 (Alex)  \n",
      "10                 MMR #2 (Alex)  \n",
      "11     Meningokokken B #1 (Alex)  \n",
      "12     Meningokokken B #2 (Alex)  \n",
      "13     Meningokokken B #3 (Alex)  \n",
      "14     Meningokokken B #4 (Alex)  \n",
      "15     Meningokokken C #1 (Alex)  \n",
      "16                FSME #1 (Alex)  \n",
      "17                FSME #2 (Alex)  \n",
      "18                FSME #3 (Alex)  \n",
      "19                FSME #5 (Alex)  \n",
      "20    Varizellen (VZV) #1 (Alex)  \n",
      "21    Varizellen (VZV) #2 (Alex)  \n",
      "22   Hepatitis A (HAV) #1 (Alex)  \n",
      "23   Hepatitis A (HAV) #2 (Alex)  \n",
      "ICS wurde erfolgreich erstellt: download/impfplan-2024-02-02.ics\n",
      "CSV wurde erfolgreich erstellt: download/impfplan-2024-02-02.csv\n",
      "PDF wurde erfolgreich erstellt: download/impfplan-2024-02-02.pdf\n"
     ]
    }
   ],
   "source": [
    "# ausführen des Skripts als JUPYTER-Notebook\n",
    "\n",
    "csv_dateipfad_in = input(\"CSV-Dateiname: \")\n",
    "# kinderimpfplan2023.csv\n",
    "\n",
    "postfix = input(\"Vorname: \")\n",
    "# Alex\n",
    "\n",
    "eingabedatum = input(\"Eingabedatum: \")\n",
    "# \"2023-12-31\"\n",
    "\n",
    "reminder = input(\"Reminder: \")\n",
    "# -PT7D\n",
    "# 1 Woche\n",
    "\n",
    "path = \"download/\"\n",
    "path_in = \"\"\n",
    "\n",
    "\n",
    "# Datum/ Schema-CSV-Datei in DataFrame lesen\n",
    "df = pd.read_csv(path_in + csv_dateipfad_in, encoding='latin1', sep=';')\n",
    "for index, row in df.iterrows():\n",
    "    # Ändere den Wert in der Spalte 'Alter'\n",
    "    wochen_zukunft = int(df.at[index, 'offset'])*4\n",
    "    #eingabedatum_temp_obj = datetime.strptime(eingabedatum, \"%d.%m.%Y\")\n",
    "    #eingabedatum = eingabedatum_temp_obj.strftime(\"%Y-%m-%d\")\n",
    "    startdatum, enddatum = kalenderwochen_start_end_datum(eingabedatum, wochen_zukunft)\n",
    "    #startdatum = str(startdatum)\n",
    "    #enddatum = str(enddatum)\n",
    "    df.at[index, 'start'] = startdatum\n",
    "    df.at[index, 'end'] = enddatum\n",
    "    # Neue Spalte hinzufügen, die die zusammengeführten Strings enthält\n",
    "    df['beschreibung'] = df.apply(merge_values, axis=1)\n",
    "    df['beschreibung'] = df['beschreibung'] + \" (\" + postfix + \")\"\n",
    "    df['reminder'] = reminder\n",
    "\n",
    "# DataFrame anzeigen\n",
    "print(df)\n",
    "df = df.fillna(\"\")\n",
    "df = df.astype(str)\n",
    "\n",
    "\n",
    "# Erzeuge ICS-Datei\n",
    "ics_filename = path + \"impfplan-\" + eingabedatum + \".ics\"\n",
    "create_ics_from_dataframe(df, ics_filename)\n",
    "\n",
    "# für den Druck optimieren: nicht relevante Spalten löschen, neu ordnen & Datum formatieren\n",
    "df = df.drop(['termin', 'teil', 'reminder'], axis=1)\n",
    "new_order = ['beschreibung', 'offset','info']\n",
    "df = df[new_order]\n",
    "#df['start'] = pd.to_datetime(df['start']).dt.strftime('%d.%m.%Y')\n",
    "#df['end'] = pd.to_datetime(df['end']).dt.strftime('%d.%m.%Y')\n",
    "df['erledigt'] = \" \"\n",
    "\n",
    "# Erzeuge CSV-Datei\n",
    "csv_filename = path + \"impfplan-\" + eingabedatum + \".csv\"\n",
    "create_csv_from_dataframe(df, csv_filename)\n",
    "\n",
    "# Erzeuge PDF-Datei\n",
    "pdf_filename = path + \"impfplan-\" + eingabedatum + \".pdf\"\n",
    "create_pdf_from_dataframe(df, pdf_filename)"
   ]
  },
  {
   "cell_type": "code",
   "execution_count": null,
   "id": "538edf53",
   "metadata": {
    "colab": {
     "base_uri": "https://localhost:8080/"
    },
    "id": "538edf53",
    "outputId": "cc508346-cdf6-480a-fd78-c9325d3e8050"
   },
   "outputs": [
    {
     "name": "stdout",
     "output_type": "stream",
     "text": [
      " * Serving Flask app '__main__'\n",
      " * Debug mode: off\n"
     ]
    },
    {
     "name": "stderr",
     "output_type": "stream",
     "text": [
      "INFO:werkzeug:\u001b[31m\u001b[1mWARNING: This is a development server. Do not use it in a production deployment. Use a production WSGI server instead.\u001b[0m\n",
      " * Running on http://127.0.0.1:5000\n",
      "INFO:werkzeug:\u001b[33mPress CTRL+C to quit\u001b[0m\n"
     ]
    }
   ],
   "source": [
    "# ausführen des Skripts als FLASK-WebAnwendung (nicht möglich in Jupyter)\n",
    "\n",
    "app = Flask(__name__)\n",
    "\n",
    "@app.route('/')\n",
    "def index():\n",
    "    return render_template('index.html')\n",
    "\n",
    "@app.route('/submit', methods=['POST'])\n",
    "def submit():\n",
    "    if request.method == 'POST':\n",
    "\n",
    "        # Eingabedaten aus Request einlesen\n",
    "        csv_dateipfad_in = request.form['csv_dateipfad_in']\n",
    "        postfix = request.form['postfix']\n",
    "        eingabedatum = request.form['eingabedatum']\n",
    "        reminder = request.form['reminder']\n",
    "        #eingabedatum = \"2023-12-31\"\n",
    "\n",
    "        print(eingabedatum)\n",
    "\n",
    "        #PROD auf pythonanywhere\n",
    "        #path = \"/home/alexontour/mysite/download/\"\n",
    "        #path_in = \"/home/alexontour/mysite/\"\n",
    "        # DEV - Local\n",
    "        path = \"download/\"\n",
    "        path_in = \"\"\n",
    "\n",
    "\n",
    "        # Datum/ Schema-CSV-Datei in DataFrame lesen\n",
    "        df = pd.read_csv(path_in + csv_dateipfad_in, encoding='latin1', sep=';')\n",
    "        for index, row in df.iterrows():\n",
    "            # Ändere den Wert in der Spalte 'Alter'\n",
    "            wochen_zukunft = int(df.at[index, 'offset'])*4\n",
    "            #eingabedatum_temp_obj = datetime.strptime(eingabedatum, \"%d.%m.%Y\")\n",
    "            #eingabedatum = eingabedatum_temp_obj.strftime(\"%Y-%m-%d\")\n",
    "            startdatum, enddatum = kalenderwochen_start_end_datum(eingabedatum, wochen_zukunft)\n",
    "            #startdatum = str(startdatum)\n",
    "            #enddatum = str(enddatum)\n",
    "            df.at[index, 'start'] = startdatum\n",
    "            df.at[index, 'end'] = enddatum\n",
    "            # Neue Spalte hinzufügen, die die zusammengeführten Strings enthält\n",
    "            df['beschreibung'] = df.apply(merge_values, axis=1)\n",
    "            df['beschreibung'] = df['beschreibung'] + \" (\" + postfix + \")\"\n",
    "            df['reminder'] = reminder\n",
    "\n",
    "        # DataFrame anzeigen\n",
    "        print(df)\n",
    "        df = df.fillna(\"\")\n",
    "        df = df.astype(str)\n",
    "\n",
    "\n",
    "        # Erzeuge ICS-Datei\n",
    "        ics_filename = path + \"impfplan-\" + eingabedatum + \".ics\"\n",
    "        create_ics_from_dataframe(df, ics_filename)\n",
    "\n",
    "        # für den Druck optimieren: nicht relevante Spalten löschen, neu ordnen & Datum formatieren\n",
    "        df = df.drop(['termin', 'teil', 'reminder'], axis=1)\n",
    "        new_order = ['beschreibung', 'offset','info']\n",
    "        df = df[new_order]\n",
    "        #df['start'] = pd.to_datetime(df['start']).dt.strftime('%d.%m.%Y')\n",
    "        #df['end'] = pd.to_datetime(df['end']).dt.strftime('%d.%m.%Y')\n",
    "        df['erledigt'] = \" \"\n",
    "\n",
    "\n",
    "        # Erzeuge CSV-Datei\n",
    "        csv_filename = path + \"impfplan-\" + eingabedatum + \".csv\"\n",
    "        create_csv_from_dataframe(df, csv_filename)\n",
    "\n",
    "        # Erzeuge PDF-Datei\n",
    "        pdf_filename = path + \"impfplan-\" + eingabedatum + \".pdf\"\n",
    "        create_pdf_from_dataframe(df, pdf_filename)\n",
    "\n",
    "        # Downlaod-Seite rendern\n",
    "        return render_template('download.html',\n",
    "                        pdf_filename=os.path.basename(pdf_filename),\n",
    "                        csv_filename=os.path.basename(csv_filename),\n",
    "                        ics_filename=os.path.basename(ics_filename))\n",
    "\n",
    "\n",
    "@app.route('/download/<filename>')\n",
    "def download(filename):\n",
    "    #PROD\n",
    "    #path = \"/home/alexontour/mysite/download/\"\n",
    "    #DEV\n",
    "    path = \"C:/Users/User/Documents/GitHub/calendar_generator/download/\"\n",
    "    return send_file(path + filename, as_attachment=True)\n",
    "\n",
    "if __name__ == '__main__':\n",
    "    app.run(port=5000)\n"
   ]
  },
  {
   "cell_type": "code",
   "execution_count": null,
   "id": "64978cc6",
   "metadata": {
    "id": "64978cc6"
   },
   "outputs": [],
   "source": []
  },
  {
   "cell_type": "code",
   "execution_count": null,
   "id": "8f2f8bed",
   "metadata": {
    "id": "8f2f8bed"
   },
   "outputs": [],
   "source": []
  },
  {
   "cell_type": "code",
   "execution_count": null,
   "id": "18587b6c",
   "metadata": {
    "id": "18587b6c"
   },
   "outputs": [],
   "source": []
  }
 ],
 "metadata": {
  "colab": {
   "include_colab_link": true,
   "provenance": []
  },
  "kernelspec": {
   "display_name": "Python 3 (ipykernel)",
   "language": "python",
   "name": "python3"
  },
  "language_info": {
   "codemirror_mode": {
    "name": "ipython",
    "version": 3
   },
   "file_extension": ".py",
   "mimetype": "text/x-python",
   "name": "python",
   "nbconvert_exporter": "python",
   "pygments_lexer": "ipython3",
   "version": "3.11.3"
  }
 },
 "nbformat": 4,
 "nbformat_minor": 5
}
