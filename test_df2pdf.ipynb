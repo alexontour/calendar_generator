{
 "cells": [
  {
   "cell_type": "code",
   "execution_count": 1,
   "id": "dc3f1b99",
   "metadata": {},
   "outputs": [
    {
     "name": "stdout",
     "output_type": "stream",
     "text": [
      "Requirement already satisfied: tabulate in c:\\users\\user\\anaconda3\\lib\\site-packages (0.8.10)\n",
      "Note: you may need to restart the kernel to use updated packages.\n"
     ]
    }
   ],
   "source": [
    "pip install tabulate"
   ]
  },
  {
   "cell_type": "code",
   "execution_count": 2,
   "id": "e482f8ed",
   "metadata": {},
   "outputs": [
    {
     "data": {
      "text/plain": [
       "''"
      ]
     },
     "execution_count": 2,
     "metadata": {},
     "output_type": "execute_result"
    }
   ],
   "source": [
    "import pandas as pd\n",
    "from tabulate import tabulate\n",
    "from fpdf import FPDF\n",
    "\n",
    "# Beispiel DataFrame\n",
    "data = {\n",
    "    'Name': ['Alice', 'Bob', 'Charlie'],\n",
    "    'Age': [25, 30, 35],\n",
    "    'City': ['New York', 'Los Angeles', 'Chicago']\n",
    "}\n",
    "\n",
    "df = pd.DataFrame(data)\n",
    "\n",
    "# Tabellenformatierung mit tabulate\n",
    "table = tabulate(df, headers='keys', tablefmt='grid')\n",
    "\n",
    "# PDF erstellen und die Tabelle einfügen\n",
    "pdf = FPDF()\n",
    "pdf.add_page()\n",
    "pdf.set_font(\"Arial\", size = 12)\n",
    "pdf.cell(200, 10, txt = \"Pandas DataFrame in PDF\", ln = True, align = 'C')\n",
    "pdf.cell(200, 10, txt = table, ln = True, align = 'L')\n",
    "pdf.output(\"dataframe.pdf\")\n"
   ]
  },
  {
   "cell_type": "code",
   "execution_count": 4,
   "id": "9c54017a",
   "metadata": {},
   "outputs": [
    {
     "name": "stdout",
     "output_type": "stream",
     "text": [
      "PDF erstellt: dataframe.pdf\n"
     ]
    }
   ],
   "source": [
    "import pandas as pd\n",
    "from reportlab.lib import colors\n",
    "from reportlab.lib.pagesizes import letter\n",
    "from reportlab.platypus import SimpleDocTemplate, Table, TableStyle\n",
    "\n",
    "# Beispiel DataFrame\n",
    "data = {\n",
    "    'Name': ['Alice', 'Bob', 'Charlie'],\n",
    "    'Age': [30, 25, 35],\n",
    "    'City': ['New Yorksfgasfhghdhjgdf', 'Los Angelgfhdfjdfjdfgjgdfjdgfjes', 'Chifgjgdfjgfdjfdjdfcago']\n",
    "}\n",
    "\n",
    "df = pd.DataFrame(data)\n",
    "\n",
    "# Konvertiere DataFrame in einen formatierten String mit Zeilenumbrüchen\n",
    "df_str = df.to_string(index=False)\n",
    "\n",
    "# Erstelle PDF\n",
    "pdf_filename = \"dataframe.pdf\"\n",
    "pdf = SimpleDocTemplate(pdf_filename, pagesize=letter)\n",
    "\n",
    "# Erstelle Tabelle\n",
    "table_data = []\n",
    "for row in df_str.split('\\n'):\n",
    "    table_data.append(row.split())\n",
    "\n",
    "t = Table(table_data)\n",
    "\n",
    "# Stil der Tabelle\n",
    "style = TableStyle([('BACKGROUND', (0, 0), (-1, 0), colors.grey),\n",
    "                    ('TEXTCOLOR', (0, 0), (-1, 0), colors.whitesmoke),\n",
    "                    ('ALIGN', (0, 0), (-1, -1), 'CENTER'),\n",
    "                    ('FONTNAME', (0, 0), (-1, 0), 'Helvetica-Bold'),\n",
    "                    ('BOTTOMPADDING', (0, 0), (-1, 0), 12),\n",
    "                    ('BACKGROUND', (0, 1), (-1, -1), colors.beige),\n",
    "                    ('GRID', (0, 0), (-1, -1), 1, colors.black)])\n",
    "\n",
    "t.setStyle(style)\n",
    "\n",
    "# Baue PDF\n",
    "pdf.build([t])\n",
    "\n",
    "print(f\"PDF erstellt: {pdf_filename}\")\n"
   ]
  },
  {
   "cell_type": "code",
   "execution_count": null,
   "id": "169deaac",
   "metadata": {},
   "outputs": [],
   "source": []
  }
 ],
 "metadata": {
  "kernelspec": {
   "display_name": "Python 3 (ipykernel)",
   "language": "python",
   "name": "python3"
  },
  "language_info": {
   "codemirror_mode": {
    "name": "ipython",
    "version": 3
   },
   "file_extension": ".py",
   "mimetype": "text/x-python",
   "name": "python",
   "nbconvert_exporter": "python",
   "pygments_lexer": "ipython3",
   "version": "3.11.3"
  }
 },
 "nbformat": 4,
 "nbformat_minor": 5
}
